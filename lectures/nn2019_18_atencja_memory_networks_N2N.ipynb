{
 "cells": [
  {
   "cell_type": "markdown",
   "metadata": {},
   "source": [
    "\n",
    "---\n",
    "<big><big><big><big><big><big>Sieci neuronowe 2018/19</big></big></big></big></big></big>\n",
    "\n",
    "---\n",
    "<big><big><big><big><big>Mechanizmy atencji Memory Network end-to-end</big></big></big></big></big>\n",
    "\n",
    "---"
   ]
  },
  {
   "cell_type": "code",
   "execution_count": null,
   "metadata": {},
   "outputs": [],
   "source": [
    "%%javascript\n",
    "$.getScript('https://kmahelona.github.io/ipython_notebook_goodies/ipython_notebook_toc.js')"
   ]
  },
  {
   "cell_type": "code",
   "execution_count": null,
   "metadata": {},
   "outputs": [],
   "source": [
    "# -*- coding: utf-8 -*-\n",
    "\n",
    "import numpy as np\n",
    "import pandas as pd\n",
    "\n",
    "%matplotlib inline\n",
    "import matplotlib.pyplot as plt\n",
    "import seaborn as sns\n",
    "from mpl_toolkits.mplot3d import Axes3D\n",
    "from matplotlib import cm\n",
    "from matplotlib.ticker import LinearLocator, FormatStrFormatter\n",
    "\n",
    "plt.style.use(\"fivethirtyeight\")\n",
    "\n",
    "from bokeh.io import gridplot, output_file, show\n",
    "from bokeh.plotting import figure, output_notebook\n",
    "from bkcharts import Scatter"
   ]
  },
  {
   "cell_type": "code",
   "execution_count": null,
   "metadata": {},
   "outputs": [],
   "source": [
    "output_notebook()"
   ]
  },
  {
   "cell_type": "code",
   "execution_count": null,
   "metadata": {},
   "outputs": [],
   "source": [
    "sns.set(font_scale=2.0)"
   ]
  },
  {
   "cell_type": "markdown",
   "metadata": {},
   "source": [
    "Image inclusion\n",
    "<img src=\"../nn_figures/\" width=\"100%\">"
   ]
  },
  {
   "cell_type": "markdown",
   "metadata": {},
   "source": [
    "# Memory Networks end-to-end\n",
    "<img src=\"../nn_figures/MN_N2N.png\" width=\"80%\">\n",
    "\n",
    "* zdania w pamięci\n",
    "  * zdania $x$ są zapamiętywane przez embedding $A$ jako  $m_i$\n",
    "  * zapytania $q$ też są reprezentowane przez embedding $B$ jako $u$\n",
    "  * podobieństwo informacji i zapytania są określone jako $$p_i=softmax(u^Tm_i)$$\n",
    "    * tak określone $p_i$ można interpretować jako prawdopodobieństwa adekwatności informacji względem zapytania\n",
    "* reprezentacja wyjścia\n",
    "  * każdy $x$ ma swoją reprezentację w innym embeddingu $C$\n",
    "  * odpowiedzią z pamięci jest wtedy $$o=\\sum_ip_ic_i$$\n",
    "  * ta reprezentacja jest gładka i łatwo pozwala wykorzystać uczenie gradientowe\n",
    "* końcowa predykcja\n",
    "  * końcowa odpowiedź $$a=softmax(W(o+u))$$\n",
    "* wszystkie macierze embeddingów $A$, $B$, $C$ oraz końcowych wag $W$ są uczone gradientowo"
   ]
  },
  {
   "cell_type": "markdown",
   "metadata": {},
   "source": [
    "## MN N2N model warstwowy\n",
    "<img src=\"../nn_figures/MN_N2N.png\" width=\"80%\">\n",
    "Możliwe jest złożenie wiele warstw\n",
    "\n",
    "* $u^{k+1}=u^k+o^k$\n",
    "* każda warstwa ma swoje _niezależne_ embeddingi $A^k,B^k,C^k$\n",
    "  * ale można wymusić, by były identyczne\n",
    "* końcową odpowiedzią jest $a=softmax(Wu^{K+1})$\n",
    "\n",
    "### złożenia\n",
    "1. __sąsiednie warstwy__ $A^{k+1}=c^k$\n",
    "  * także $W=C^K$\n",
    "2. __rekurencyjnie__ gdzie $A_1=A^2=\\dots=A^K$, podobnie $C_1=C^2=\\dots=C^K$\n",
    "\n",
    "\n",
    "Model MN N2N jest podobny do MN poza gładkimi softmax-ami zamiast twardych operacji max."
   ]
  },
  {
   "cell_type": "markdown",
   "metadata": {},
   "source": [
    "## MN N2N doświadczenia\n",
    "Wyniki bliskie modelowi MN\n",
    "\n",
    "Lepsze od LSTM"
   ]
  }
 ],
 "metadata": {
  "kernelspec": {
   "display_name": "Python 3",
   "language": "python",
   "name": "python3"
  },
  "language_info": {
   "codemirror_mode": {
    "name": "ipython",
    "version": 3
   },
   "file_extension": ".py",
   "mimetype": "text/x-python",
   "name": "python",
   "nbconvert_exporter": "python",
   "pygments_lexer": "ipython3",
   "version": "3.6.8"
  }
 },
 "nbformat": 4,
 "nbformat_minor": 2
}
