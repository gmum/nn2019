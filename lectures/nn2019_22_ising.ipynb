{
 "cells": [
  {
   "cell_type": "markdown",
   "metadata": {},
   "source": [
    "\n",
    "---\n",
    "<big><big><big><big><big><big>Sieci neuronowe 2018/19</big></big></big></big></big></big>\n",
    "\n",
    "---\n",
    "<big><big><big><big><big>Model Isinga</big></big></big></big></big>\n",
    "\n",
    "---"
   ]
  },
  {
   "cell_type": "code",
   "execution_count": 1,
   "metadata": {},
   "outputs": [],
   "source": [
    "# -*- coding: utf-8 -*-\n",
    "\n",
    "import numpy as np\n",
    "import pandas as pd\n",
    "\n",
    "%matplotlib inline\n",
    "import matplotlib.pyplot as plt\n",
    "import seaborn as sns\n",
    "from mpl_toolkits.mplot3d import Axes3D\n",
    "from matplotlib import cm\n",
    "from matplotlib.ticker import LinearLocator, FormatStrFormatter\n",
    "\n",
    "plt.style.use(\"fivethirtyeight\")\n",
    "\n",
    "#from bokeh.io import gridplot, output_file, show\n",
    "#from bokeh.plotting import figure, output_notebook\n",
    "#from bkcharts import Scatter\n",
    "\n",
    "import random"
   ]
  },
  {
   "cell_type": "code",
   "execution_count": null,
   "metadata": {},
   "outputs": [],
   "source": [
    "output_notebook()"
   ]
  },
  {
   "cell_type": "code",
   "execution_count": null,
   "metadata": {},
   "outputs": [],
   "source": [
    "sns.set(font_scale=2.0)"
   ]
  },
  {
   "cell_type": "markdown",
   "metadata": {},
   "source": [
    "Image inclusion\n",
    "<img src=\"nn_figures/\" width=\"100%\">"
   ]
  },
  {
   "cell_type": "markdown",
   "metadata": {},
   "source": [
    "# Model Isinga\n",
    "1. jest modelem fizycznym leżącym u podstaw modeli Hopfielda czy Boltzmanna\n",
    "  * $x$ jest stanem modelu Isinga o $N$ spinach (wartości $+1$ lub $-1$)\n",
    "  * jest wartością __sprzężenia__ między spinami $m$ i $n$\n",
    "    * $J_{mn}$ jeśli __są__ sąsiadami\n",
    "    * $0$ jeśli __nie są__ sąsiadami\n",
    "  * energia stanu $x$ ($1/2$ ponieważ każdy stan jest liczony podwójnie)\n",
    "  $$E(x; J, H)=-\\frac{1}{2}\\left(\\sum_{m, n}J_{mn}x_mx_n+\\sum_nHx_n\\right)$$\n",
    "  gdzie $H$ jest przyłożonym polem\n",
    "    * jeśli $J>0$, to układ jest _ferromagnetykiem_\n",
    "      > [Wiki]  ciało, które wykazuje własności ferromagnetyczne. Znajdują się w nim obszary stałego namagnesowania (tzw. domeny magnetyczne), wytwarzające wokół siebie pole magnetyczne. M.in. żelazo, kobalt, nikiel i niektóre ich stopy oraz niektóre metale przejściowe, np. metale ziem rzadkich.\n",
    "      >\n",
    "      > Ferromagnetyki mają właściwości ferromagnetyczne poniżej temperatury Curie, powyżej są paramagnetykami. Magnesowanie polega na zmianie kierunku namagnesowania w domenach lub zmianie granic domen. Występuje w nich zjawisko nasycenia magnetycznego – wszystkie elementarne dipole magnetyczne ustawiają się w kierunku zewnętrznego pola magnetycznego. Powyżej temperatury Curie ruchy cieplne uniemożliwiają ustawienie dipoli magnetycznych.\n",
    "    * jeśli $J<0$, to _anty-ferromagnetykiem_\n",
    "    > [Wiki] Antyferromagnetyzm – magnetyczna struktura materiału, polegająca na antyrównoległym uporządkowaniu elementarnych momentów magnetycznych w podsieciach sieci krystalicznej. Antyferromagnetyzm występuje również w płaszczyznach CuO znajdujących się w większości badanych nadprzewodników wysokotemperaturowych.\n",
    "    >\n",
    "    > Sieć antyferromagnetyku może być rozpatrywana jako wiele podsieci, z których w każdej momenty magnetyczne mają identyczny kierunek, ale przeciwne zwroty.\n",
    "2. na model ma wpływ __temperatura__ (niech to bedzie ferromagnetyk)\n",
    "  * gdy jest __wysoka__, to spiny są ukierunkowane losowo\n",
    "  * gdy spada, lokalne zależności zaczynają przeważać\n",
    "  * wraz z jej spadkiem w czasie, układ staje się stabilnym magnesem\n",
    "  * prawdopodobieństwo dodatniego spinu jest określone przez\n",
    "  $$P(+1\\mid v_n)=\\frac{1}{1+\\exp(-2\\beta v_n)}$$\n",
    "  gdzie $\\beta=1/(k_B T)$ gdzie $k_B$ jest stałą Boltzmanna ($k_B=1.38\\times10^{-23}\\;J/K$), a $T$ temperaturą\n",
    "    * wysoka temperatura $T$ zwiększa losowość\n",
    "    * proces stopniowego tworzenia struktury wraz z obniżaniem temperatury nazywany jest _symulowanym wyżarzaniem_ (ang. simmulated annealing)\n",
    "3. alternatywą dla samplingu Gibbsa może być Metropolis, w którym określana jest zmiana energia wynikająca ze zmiany spinu\n",
    "$$\\Delta E=2x_nb_n$$ i przyjęcie nowego stanu z prawdopodobieństwem\n",
    "$$P(\\Delta E, \\beta)=\\begin{cases} 1 &\\mbox{if } \\Delta E\\leq 0 \\\\ \n",
    "\\exp(-\\beta\\Delta E) & \\mbox{if } \\Delta E>0 \\end{cases}$$"
   ]
  },
  {
   "cell_type": "markdown",
   "metadata": {},
   "source": [
    "## Sampling\n",
    "Polityk szuka poparcia\n",
    "1. odwiedza wyspy w swoim rejonie jedna po drugiej\n",
    "2. każdego dnia wybiera sąsiednią wyspę porównując liczbę mieszkańców\n",
    "  * jeśli sąsiednia wyspa ma ich więcej, to jedzie tam\n",
    "  * jeśli ma mniej mieszkańców, to jedzie z prawdopodobieństwem $p=\\dfrac{\\text{liczba mieszkańców na sąsiedniej}}{\\text{liczba mieszkańców na aktualnej}}$\n",
    "  * z prawdopodobieństwem $1-p$ pozostaje na aktualnej\n",
    "  * _uwaga_ w trakcie tego procesu polityk nie oblicza dokładnej liczby mieszkańców, a jedynie je porównuje\n",
    "3. jeśli będzie to robił wystarczająco długo, to czas spędzony na każdej wyspie będzie __proporcjonalny__ do liczby mieszkańców\n",
    "  * porównując liczbę mieszkańców tylko na sąsiednich wyspach dochodzi do estymacji na wszystkich!"
   ]
  },
  {
   "cell_type": "markdown",
   "metadata": {},
   "source": [
    "## Próbkowanie Metropolis-Hastings\n",
    "Potrzebujemy losowania z rozkładu równomiernego, propozycji $p(x)$, docelowego posterior $g(x)$\n",
    " \n",
    "1. początkowy punkt startu $\\theta$\n",
    "2. propozycja $\\theta_p$ taka, że\n",
    "$$\\begin{align}\n",
    "\\theta_p&=\\theta+\\Delta\\theta\\\\\n",
    "\\Delta\\theta&\\sim\\mathcal{N}(0,\\sigma)\n",
    "\\end{align}$$\n",
    "\n",
    "3. ułamek $$\\rho=\\frac{g(\\theta_p\\mid X)}{g(\\theta\\mid X)}$$\n",
    "  * jeśli $\\rho\\geq1$, to $\\theta=\\theta_p$\n",
    "  * jeśli $\\rho<1$ to $\\theta=\\theta_p$ z prawdopodobieństwem $\\rho$\n",
    "    * w przeciwnym wypadku bez zmian $\\theta=\\theta$ (z prawdopodobieństwem $1-\\rho$)\n",
    "  * po pewnej liczbie kroków $\\theta_k, \\theta_{k+1}, \\dots$ będą próbkami z rozkładu posterior\n",
    "2. czemu to działa?\n",
    "  * akceptujemy nowe $\\theta_{k+1}$ kiedykolwiek gęstość prawdopodobieństwa docelowego rozkładu jest w $\\theta_{k+1}$ jest większa niż w $\\theta_k$\n",
    "    * parametr $\\theta$ będzie __częściej__ znajdywany w miejscach o większej gęstości\n",
    "  * gdyby tak zawsze akceptować, to samplowanie utknęłoby w lokalnym minimum\n",
    "    * akceptujemy ruchy do miejsc o mniejszej gęstości z szansą $\\rho$\n",
    "  * ponieważ $\\rho$ jest ułamkiem, to mianowniki w\n",
    "  $$g(\\theta\\mid X)=\\frac{g(X\\mid\\theta)p(\\theta)}{g(X)}$$ się upraszczają i wystarczają próbki z posterior $g(\\theta\\mid X)$\n",
    "  * $\\theta$ będzie spędzać czas proporcjonalnie do gęstości"
   ]
  },
  {
   "cell_type": "code",
   "execution_count": 2,
   "metadata": {},
   "outputs": [],
   "source": [
    "def metropolis(start, target, proposal, niter):\n",
    "    current = start\n",
    "    post = [current]\n",
    "    for i in range(niter):\n",
    "        proposed = proposal(current)\n",
    "        p = min(target(proposed) / target(current), 1)\n",
    "        if np.random.random() < p:\n",
    "            current = proposed\n",
    "        post.append(current)\n",
    "    return post"
   ]
  },
  {
   "cell_type": "markdown",
   "metadata": {},
   "source": [
    "<img src=\"../nn_figures/metropolis.pdf\" width=\"70%\"> [McKay]\n",
    "1. poziomo stany od 0 do 20; pionowo czas\n",
    "2. sampling Metropolis-Hastings\n",
    "3. histogram dla niezależnego losowania stanów z __docelowego__ rozkładu\n",
    "\n",
    "1. proces rozpoczynał od stanu 10 i z równym rozkładem przechodził do lewego/prawego (przejście poza granicę było odrzucane)\n",
    "> Reguła: jeśli największa skala w przestrzeni stanów wynosi $L$, a metoda Metropolis generuje propozycje z krokiem $\\epsilon$, to algorytm musi być wykonany przez co najmniej $(L/\\epsilon)^2$ iteracji dla osiągnięcia szeregu niezależnych próbek z rozkładu."
   ]
  },
  {
   "cell_type": "markdown",
   "metadata": {},
   "source": [
    "## Próbkowanie Gibbsa\n",
    "1. niech $\\theta=(\\theta_1,\\theta_2,\\dots,\\theta_k)$\n",
    "2. potrafimy losować z rozkładów warunkowych $p(\\theta_i\\mid \\theta_1,\\dots,\\theta_{i-1},\\theta_{i+1},\\dots,\\theta_k,X)$\n",
    "3. próbkujemy\n",
    "  1. $\\theta_i$ z rozkładów warunkowych traktując wszystkie inne parametry jako widzialne\n",
    "    * przejście wszystkich parametrów oznacza jeden cykl\n",
    "  2. w każdej iteracji proponowana jest nowa wartość konkretnego parametru wynikająca z jego rozkładu warunkowego\n",
    "    * taka propozycja jest __zawsze__ akceptowana\n",
    "    \n",
    "4. nie ma potrzeby wyszukiwania coraz lepszych rozkładów propozycji\n",
    "5. zalety i wady\n",
    "  * propozycje są zawsze akceptowane\n",
    "  * ale proces musi być zdolny generować rozkłady warunkowe i losowania z nich\n",
    "  * może być powolny, jeśli parametry są skorelowane\n",
    "<img src=\"../nn_figures/gibbs.pdf\" width=\"70%\"> [McKay]"
   ]
  },
  {
   "cell_type": "code",
   "execution_count": 3,
   "metadata": {},
   "outputs": [],
   "source": [
    "def ising(T, wdth=64, max_turns=300):\n",
    "    beta = 1.0 / T\n",
    "\n",
    "    s= np.ones((wdth, wdth))\n",
    "    for i in range(wdth):\n",
    "        for j in range(wdth):\n",
    "            if random.random() > 0.5:\n",
    "                s[i, j] = -s[i, j]\n",
    "    fig, ax = plt.subplots(1, 2, sharey=True, figsize=(16, 8))\n",
    "    ax[0].pcolor(s)\n",
    "\n",
    "    turns = 0\n",
    "    dE = np.zeros((wdth, wdth))\n",
    "    while turns < max_turns:\n",
    "        turns = turns + 1\n",
    "        for i in range(wdth):\n",
    "            for j in range(wdth):\n",
    "                dE[i, j] =  0.5 * 2 * s[i, j]*(s[(i - 1) % wdth, j] + s[(i + 1) % wdth, j] + s[i, (j - 1) % wdth] + s[i, (j + 1) % wdth])\n",
    "                if dE[i, j]  < 0 or random.random() < np.exp(-2 * beta * dE[i, j]):\n",
    "                    s[i, j] = - s[i, j]\n",
    "    ax[1].pcolor(s)"
   ]
  },
  {
   "cell_type": "code",
   "execution_count": 11,
   "metadata": {},
   "outputs": [
    {
     "data": {
      "image/png": "[encoded data removed]",
      "text/plain": [
       "<Figure size 1152x576 with 2 Axes>"
      ]
     },
     "metadata": {
      "needs_background": "light"
     },
     "output_type": "display_data"
    }
   ],
   "source": [
    "ising(T=2.0, wdth=100, max_turns=500)"
   ]
  },
  {
   "cell_type": "code",
   "execution_count": 13,
   "metadata": {},
   "outputs": [
    {
     "data": {
      "image/png": "[encoded data removed]",
      "text/plain": [
       "<Figure size 1152x576 with 2 Axes>"
      ]
     },
     "metadata": {
      "needs_background": "light"
     },
     "output_type": "display_data"
    }
   ],
   "source": [
    "# temperatura odpowiadająca log T ~= 0.8 odpowiada przejściu między magnetykiem a antymagnetykiem\n",
    "ising(T=1.3, max_turns=500)"
   ]
  },
  {
   "cell_type": "markdown",
   "metadata": {},
   "source": [
    "### model Isinga\n",
    "1. ze względu na prawa fizyczne jest idealnym modelem do obserwacji przejść fazowych \n",
    "  * prawa mówią, że dla modeli o tym samym wymiarze, zachowanie przenosi się dokładnie\n",
    "1. ciekawe zachowanie jest dla trójkątów\n",
    "  * dla $J=1$ zachowanie będzie podobne\n",
    "  * dla $J=-1$ trójki sąsiadów o tym samym spinie"
   ]
  }
 ],
 "metadata": {
  "kernelspec": {
   "display_name": "Python 3",
   "language": "python",
   "name": "python3"
  },
  "language_info": {
   "codemirror_mode": {
    "name": "ipython",
    "version": 3
   },
   "file_extension": ".py",
   "mimetype": "text/x-python",
   "name": "python",
   "nbconvert_exporter": "python",
   "pygments_lexer": "ipython3",
   "version": "3.6.8"
  }
 },
 "nbformat": 4,
 "nbformat_minor": 2
}
