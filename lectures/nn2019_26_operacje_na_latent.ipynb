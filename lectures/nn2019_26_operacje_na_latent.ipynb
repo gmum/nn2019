{
 "cells": [
  {
   "cell_type": "markdown",
   "metadata": {},
   "source": [
    "\n",
    "---\n",
    "<big><big><big><big><big><big>Sieci neuronowe 2018/19</big></big></big></big></big></big>\n",
    "\n",
    "---\n",
    "<big><big><big><big><big>Operacje na przestrzeni latent</big></big></big></big></big>\n",
    "\n",
    "---"
   ]
  },
  {
   "cell_type": "code",
   "execution_count": null,
   "metadata": {},
   "outputs": [],
   "source": [
    "%%javascript\n",
    "$.getScript('https://kmahelona.github.io/ipython_notebook_goodies/ipython_notebook_toc.js')"
   ]
  },
  {
   "cell_type": "code",
   "execution_count": null,
   "metadata": {},
   "outputs": [],
   "source": [
    "# -*- coding: utf-8 -*-\n",
    "\n",
    "import numpy as np\n",
    "import pandas as pd\n",
    "\n",
    "%matplotlib inline\n",
    "import matplotlib.pyplot as plt\n",
    "import seaborn as sns\n",
    "from mpl_toolkits.mplot3d import Axes3D\n",
    "from matplotlib import cm\n",
    "from matplotlib.ticker import LinearLocator, FormatStrFormatter\n",
    "\n",
    "plt.style.use(\"fivethirtyeight\")\n",
    "\n",
    "from bokeh.io import gridplot, output_file, show\n",
    "from bokeh.plotting import figure, output_notebook\n",
    "from bkcharts import Scatter"
   ]
  },
  {
   "cell_type": "code",
   "execution_count": null,
   "metadata": {},
   "outputs": [],
   "source": [
    "output_notebook()"
   ]
  },
  {
   "cell_type": "code",
   "execution_count": null,
   "metadata": {},
   "outputs": [],
   "source": [
    "sns.set(font_scale=2.0)"
   ]
  },
  {
   "cell_type": "markdown",
   "metadata": {},
   "source": [
    "Image inclusion\n",
    "<img src=\"../nn_figures/\" width=\"100%\">"
   ]
  },
  {
   "cell_type": "markdown",
   "metadata": {},
   "source": [
    "# Operacje w przestrzeni latent"
   ]
  },
  {
   "cell_type": "markdown",
   "metadata": {},
   "source": [
    "### kodowanie i dekodowanie danych wejściowych\n",
    "* ze zbioru uczącego, ze zbioru testującego\n",
    "* miarą jest wartość błędu odtwarzania"
   ]
  },
  {
   "cell_type": "markdown",
   "metadata": {},
   "source": [
    "### samplowanie z okolic\n",
    "* kodujemy przykład $x$\n",
    "* samplujemy z okolic\n",
    "  * enkoder zwraca __rozkład__ podany przez parametry\n",
    "  * dla rozkładu normalnego samplujemy z tego rozkładu o wyliczonych parametrach $z=(\\mu,\\sigma^2)$ i dekodujemy (dekoder jest deterministyczny!)\n",
    "* wygenerowane przykłady powinny należeć do przykładów z rozkładu $X$\n",
    "* wygenerowane przykłady powinny być __podobne__ do oryginalnego\n",
    "  * co to znaczy _podobne_?\n",
    "  * podobne zdjęcia, częsty problem z dobrą oceną\n",
    "  * przykłady mogą pochodzić ze zbiorów o małej wariancji danych, np. twarze (CelebA)\n",
    "  * niezależne miary, np. biblioteki dla oceny grafów z danej klasy"
   ]
  },
  {
   "cell_type": "markdown",
   "metadata": {},
   "source": [
    "### interpolacja\n",
    "* interesuje nas przejście między dwoma przykładami\n",
    "* kodujemy $x_1$ i $x_2$ dostając $z_1, z_2$\n",
    "* interpolacja między nimi\n",
    "* liniowa?\n",
    "* paradoks \"mydlanej bańki\"\n",
    "  * niech $P_Z$ $D$-wymiarowym rozkładem normalnym $\\mathcal{N}(0,\\mathbb{I})$\n",
    "  * losując $z\\sim P(Z)$ losujemy $D$ zmiennych $z_i\\sim\\mathcal{N}(0,1)$ _niezależnie_\n",
    "  * kwadrat normy $Y=z_1^2+z_2^2+\\ldots+z_D^2$\n",
    "  * zmienna losowa $Y$ ma rozkład $\\chi^2$\n",
    "  * dla $D>30$ korzystamy w przybliżeniu z rozkładu normalnego $\\mathcal{N}(\\sqrt{2D-1},1)$\n",
    "  * a więc normy wszystkich przykładów dla np. $D=100$ mają wartość oczekiwaną rzędu $14$!\n",
    "  * oznacza to, że wszystkie $z\\sim p(z)$ leżą na bańce o niewielkiej grubości\n",
    "    * grubość jest stała, więc stosunkowo coraz węższa w stosunku do średnicy\n",
    "  * punkty interpolacji liniowej przechodzą przez obszar o małej masie prawdopodobieństwa\n",
    "* jak sobie z tym poradzić w interpolacjach?\n",
    "  * interpolacje sferyczne\n",
    "    * heureza oparta na paradoksie bańki\n",
    "  * inny rozkład\n",
    "    * weźmy model o ustalonym prior $p(z)$\n",
    "    * losujemy dwa $z$, obliczamy punkt w środku $z=0.5z_1+0.5z_2$\n",
    "    * jaki będzie rozkład punktów środkowych?\n",
    "    * dla rozkładów prior o znanej średniej, rozkład środkowych będzie __inny__\n",
    "    * uczenie i interpolacje będą na innych rozkładach, stąd interpolacje nie mogą być poprawne\n",
    "    * potrzebny rozkład prior, dla którego średnia nie będzie się różnić\n",
    "    * takim rozkładem jest np. rozkład Cauchy-ego\n",
    "    $$C(x)=\\frac{1}{\\pi}\\frac{\\lambda}{\\lambda^2+(x-\\alpha)^2}$$\n",
    "      * $\\alpha$ to parametr położenia, $\\lambda>0$ skali\n",
    "    * to tzw. rozkład niewidomego łucznika\n",
    "    * rozkład Cauchy-ego __nie ma__ średniej, wariancji, ani wyższych momentów\n",
    "    * rozkład średnich $z\\sim C$ jest identyczny z $C$\n",
    "    * można nauczyć model biorąc $p(z)\\sim C$\n",
    "    * jednak $C$ ma \"grube\" ogony i samplowanie stamtąd daje nienajlepsze wyniki\n",
    "    * inne rozwiązanie \n",
    "      * użyć normalny prior do uczenia\n",
    "      * przy interpolacji\n",
    "        * wylosować dwa punkty z normalnego\n",
    "        * przez funkcje $CDF$ rozkładu normalnego i rozkład Cauchy przeprowadzić je do przestrzeni rozkładu Cauchy\n",
    "        * przeprowadzić interpolację liniową\n",
    "        * wykonać odwzorowanie odwrotne\n",
    "      * możliwe, dające ten sam rezultat, rozwiązanie przenoszące rozkład punktów średnich do założonego rozkładu wykorzystując tzw. earth-moving (OT)\n",
    "      \n",
    "      \n",
    "<img src=\"../nn_figures/automata-manifold.pdf\" width=\"100%\"> "
   ]
  }
 ],
 "metadata": {
  "kernelspec": {
   "display_name": "Python 3",
   "language": "python",
   "name": "python3"
  },
  "language_info": {
   "codemirror_mode": {
    "name": "ipython",
    "version": 3
   },
   "file_extension": ".py",
   "mimetype": "text/x-python",
   "name": "python",
   "nbconvert_exporter": "python",
   "pygments_lexer": "ipython3",
   "version": "3.6.8"
  }
 },
 "nbformat": 4,
 "nbformat_minor": 2
}
