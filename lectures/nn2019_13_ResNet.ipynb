{
 "cells": [
  {
   "cell_type": "markdown",
   "metadata": {},
   "source": [
    "\n",
    "---\n",
    "<big><big><big><big><big><big>Sieci neuronowe 2018/19</big></big></big></big></big></big>\n",
    "\n",
    "---\n",
    "<big><big><big><big><big>ResNet</big></big></big></big></big>\n",
    "\n",
    "---"
   ]
  },
  {
   "cell_type": "code",
   "execution_count": 3,
   "metadata": {},
   "outputs": [],
   "source": [
    "# -*- coding: utf-8 -*-\n",
    "\n",
    "import numpy as np\n",
    "import pandas as pd\n",
    "\n",
    "%matplotlib inline\n",
    "import matplotlib.pyplot as plt\n",
    "import seaborn as sns\n",
    "from mpl_toolkits.mplot3d import Axes3D\n",
    "from matplotlib import cm\n",
    "from matplotlib.ticker import LinearLocator, FormatStrFormatter\n",
    "\n",
    "plt.style.use(\"fivethirtyeight\")\n",
    "\n",
    "#from bokeh.io import gridplot, output_file, show\n",
    "#from bokeh.plotting import figure, output_notebook\n",
    "#from bkcharts import Scatter"
   ]
  },
  {
   "cell_type": "code",
   "execution_count": null,
   "metadata": {},
   "outputs": [],
   "source": [
    "output_notebook()"
   ]
  },
  {
   "cell_type": "code",
   "execution_count": null,
   "metadata": {},
   "outputs": [],
   "source": [
    "sns.set(font_scale=2.0)"
   ]
  },
  {
   "cell_type": "markdown",
   "metadata": {},
   "source": [
    "# Wyniki konkursu ImageNet a głębokość\n",
    "* 2010: płytkie, błąd 28.2%\n",
    "* 2011: płytkie, 25.8%\n",
    "* 2012: AlexNet 8 warstw, 16.4%\n",
    "* 2013: ZFNet, 8 warstw (optymalizacja AlexNet), 11.7 %\n",
    "* 2014: VGG, 19 warstw, 7.3%\n",
    "* 2014: GoogleNet, 22 warstwy, 6.7%\n",
    "* 2015: ResNet, 152 warstwy, 3.57%"
   ]
  },
  {
   "cell_type": "markdown",
   "metadata": {},
   "source": [
    "# Czy dalsze zwiększanie głębokości jest prostą metodą redukcji błędu?\n",
    "<img src=\"../nn_figures/errorvsdepth.png\" width=\"90%\">\n",
    "\n",
    "1. na zbiorze testowym błąd dla wielu warstw jest wyższy, ale to można wytłumaczyć overfittingiem\n",
    "2. ale na zbiorze treningowym błąd też jest wyższy\n",
    "3. wniosek? to jest problem optymalizacji dla modeli o dużej głębokości\n",
    "  * modele głebokie powinny uczyć się co najmniej tak dobrze jak płytkie\n",
    "  * a może zbudować płytszą sieć i dodać do niej warstwy identyczności\n",
    "    * ten model z definicji działa tak samo dobrze"
   ]
  },
  {
   "cell_type": "markdown",
   "metadata": {},
   "source": [
    "## model ResNet (He et al. 2015)\n",
    "<img align=\"right\" src=\"../nn_figures/resnet-residualblock.png\" width=\"40%\"> (oryginalny blok ma tylko dwie konwolucje $3\\times3$)\n",
    "\n",
    "$$\\begin{align}\n",
    "H_{k}&=F(H_{k-1})+H_{k-1}\\\\\n",
    "F(H_{k-1})&=H_{k}-H_{k-1}\n",
    "\\end{align}$$\n",
    "\n",
    "Zamiast uczyć się bezpośrednio $H_k=H(H_{k-1})$, model stara się uczyć _poprawki_ (residual) $F(H_{k-1})$\n",
    "1. kolejne wyniki są dodawane do siebie\n",
    "  * to wymaga zapewnienia zgodności wymiarów\n",
    "    * ewentualny padding\n",
    "2. co pewien czas\n",
    "  * liczba filtrów zwiększana dwukrotnie\n",
    "  * przy jednoczesnym pooling zmniejszającym wymiar też dwukrotnie\n",
    "3. żadnych dodatkowych warstw na końcu\n",
    "4. oryginalny ResNet dla 34, 50, 101 oraz 152 warstw\n",
    "\n",
    "\n",
    "\n",
    "<img src=\"../nn_figures/resnet-residualbottleneck.png\" width=\"60%\"> \n",
    "\n",
    "\n",
    "Dla zwiększenia wydajności wprowadzone redukcje wymiarów przez bloki _bottleneck_ (jak w GoogleNet)"
   ]
  },
  {
   "cell_type": "markdown",
   "metadata": {},
   "source": [
    "### ResNet: same zwycięstwa w 2015!\n",
    "1. ImageNet dla sieci 152 warstwowej\n",
    "2. ImageNet detekcji; 16% lepiej niż kolejny model\n",
    "3. ImageNet lokalizacji; 27% lepiej niż drugi\n",
    "4. COCO detekcji; 11% lepiej\n",
    "5. CECO segmentacji; 12% lepiej!\n",
    "\n",
    "Nawet lepiej niż \"wytrenowany\" człowiek!"
   ]
  },
  {
   "cell_type": "markdown",
   "metadata": {},
   "source": [
    "## Rozszerzenia\n",
    "<img align=\"right\" src=\"../nn_figures/resnet-resnext.png\" width=\"60%\"> \n",
    "1. ResNext podobne w idei do modułu Inception w GoogleNet\n",
    "\n",
    "\n",
    "2. stochastyczna głębokość\n",
    "  * w bardzo głębokich modelach zanikający gradient jest wciąż problemem\n",
    "  * odrzucać losowo moduły\n",
    "    * identyczność przekazuje sygnał\n",
    "    * gradient przekazywany efektywniej\n",
    "    * jeśli dany blok jest mało istotny, to powinien się douczać do zerowej poprawki\n",
    "  * w końcowej sieci wykorzystywane wszystkie warstwy\n",
    "  * zwykle końcowe warstwy mają mniejsze znaczenie\n",
    "    * prawdopodobieństwo orzucenia dla póżniejszych wyższe"
   ]
  },
  {
   "cell_type": "markdown",
   "metadata": {},
   "source": [
    "## Złożoność modeli\n",
    "<img src=\"../nn_figures/resnet-complexity.jpeg\" width=\"80%\"> \n",
    "\n"
   ]
  }
 ],
 "metadata": {
  "kernelspec": {
   "display_name": "Python 3",
   "language": "python",
   "name": "python3"
  },
  "language_info": {
   "codemirror_mode": {
    "name": "ipython",
    "version": 3
   },
   "file_extension": ".py",
   "mimetype": "text/x-python",
   "name": "python",
   "nbconvert_exporter": "python",
   "pygments_lexer": "ipython3",
   "version": "3.6.8"
  }
 },
 "nbformat": 4,
 "nbformat_minor": 2
}
