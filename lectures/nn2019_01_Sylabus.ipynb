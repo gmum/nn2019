{
 "cells": [
  {
   "cell_type": "markdown",
   "metadata": {},
   "source": [
    "\n",
    "---\n",
    "<big><big><big><big><big><big>Sieci neuronowe 2018/19</big></big></big></big></big></big>\n",
    "\n",
    "---\n",
    "\n",
    "<big><big><big><big><big>Sylabus</big></big></big></big></big>\n",
    "\n",
    "---"
   ]
  },
  {
   "cell_type": "markdown",
   "metadata": {},
   "source": [
    "# Przewidywany sylabus\n",
    "1. najważniejsze modele sieci neuronowych\n",
    "  * sieci warstwowe (MLP)\n",
    "  * sieci konwolucyjne (CNN)\n",
    "  * także specyficzne modele typu ResNet \n",
    "  * modele rekurencyjne (RNN)\n",
    "  * modele generatywne (VAE/GAN/etc.)\n",
    "  * także modele dla uczenia ze wzmocnieniem (o ile czas pozwoli)\n",
    "2. najważniejsze problemy (przeplatane z modelami sieci)\n",
    "  * algorytmy uczenia (optymalizatory)\n",
    "    * problem uczenia gradientowego\n",
    "  * problem inicjalizacji wag (parametrów)\n",
    "  * pojęcie uczenia głębokiego / mapowanie przez wiele warstw\n",
    "  * problem zanikającego i wybuchającego gradientu\n",
    "  * reprezentacja wielowymiarowej przestrzeni danych (manifold learning)\n",
    "  * optymalizacja architektur\n",
    "3. spojrzenie w przyszłość\n",
    "  * problem wielkiego modelu obliczeniowego z pojedynczą funkcją kosztu\n",
    "  * spojrzenie przez modele atencji\n",
    "  * lepsze biologiczne uzasadnienie rozwiązań\n",
    "  * wiele modyfikowalnych funkcji kosztu\n",
    "  * adaptowalność architektur"
   ]
  },
  {
   "cell_type": "markdown",
   "metadata": {},
   "source": [
    "# Organizacja wykładu i ćwiczeń, wymagania, zasady zaliczania\n",
    "w osobnym pliku"
   ]
  }
 ],
 "metadata": {
  "kernelspec": {
   "display_name": "Python 3",
   "language": "python",
   "name": "python3"
  },
  "language_info": {
   "codemirror_mode": {
    "name": "ipython",
    "version": 3
   },
   "file_extension": ".py",
   "mimetype": "text/x-python",
   "name": "python",
   "nbconvert_exporter": "python",
   "pygments_lexer": "ipython3",
   "version": "3.6.8"
  }
 },
 "nbformat": 4,
 "nbformat_minor": 2
}
