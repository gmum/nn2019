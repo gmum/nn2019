{
 "cells": [
  {
   "cell_type": "markdown",
   "metadata": {},
   "source": [
    "\n",
    "---\n",
    "<big><big><big><big><big><big>Sieci neuronowe 2018/19</big></big></big></big></big></big>\n",
    "\n",
    "---\n",
    "<big><big><big><big><big>Inne metody regularyzacji</big></big></big></big></big>\n",
    "\n",
    "---"
   ]
  },
  {
   "cell_type": "code",
   "execution_count": 3,
   "metadata": {},
   "outputs": [],
   "source": [
    "# -*- coding: utf-8 -*-\n",
    "\n",
    "import numpy as np\n",
    "import pandas as pd\n",
    "\n",
    "%matplotlib inline\n",
    "import matplotlib.pyplot as plt\n",
    "import seaborn as sns\n",
    "from mpl_toolkits.mplot3d import Axes3D\n",
    "from matplotlib import cm\n",
    "from matplotlib.ticker import LinearLocator, FormatStrFormatter\n",
    "\n",
    "plt.style.use(\"fivethirtyeight\")\n",
    "\n",
    "#from bokeh.io import gridplot, output_file, show\n",
    "#from bokeh.plotting import figure, output_notebook\n",
    "#from bkcharts import Scatter"
   ]
  },
  {
   "cell_type": "code",
   "execution_count": null,
   "metadata": {},
   "outputs": [],
   "source": [
    "output_notebook()"
   ]
  },
  {
   "cell_type": "code",
   "execution_count": null,
   "metadata": {},
   "outputs": [],
   "source": [
    "sns.set(font_scale=2.0)"
   ]
  },
  {
   "cell_type": "markdown",
   "metadata": {},
   "source": [
    "# Augmentacja danych\n",
    "* zwykle mamy mało danych, a dane są kosztowne\n",
    "* możliwe są proste rozszerzanie przykładów\n",
    "  * odwrócone obrazy, z translacją, obrotem, etc.\n",
    "  * oczywiście te dane nie są już tak wartościowe\n",
    "  * trzeba uważać, by nie wygenerować danych fałszywych"
   ]
  },
  {
   "cell_type": "markdown",
   "metadata": {},
   "source": [
    "# Early stopping\n",
    "* uczenie na zbiorze treningowym będzie sprowadzało błąd do minimalnej wartości\n",
    "* oczywiście generalizacja w pewnym momencie przestaje wzrastać\n",
    "* należy przerwać\n",
    "* kiedy?\n",
    "  * gdy błąd na zbiorze ewaluacyjnym przestaje maleć\n",
    "* podobne w efekcie do L2\n",
    "  * zaczynamy od wag o niewielkich wartościch\n",
    "  * w chwili przerwania będą miały średnie wartosci"
   ]
  },
  {
   "cell_type": "markdown",
   "metadata": {},
   "source": [
    "## Ortogonalność narzędzi\n",
    "* jedną grupą metod jest optymalizacja kosztu\n",
    "* drugą metody regularyzacji\n",
    "* dobrze jest je rozdzielać\n"
   ]
  }
 ],
 "metadata": {
  "kernelspec": {
   "display_name": "Python 3",
   "language": "python",
   "name": "python3"
  },
  "language_info": {
   "codemirror_mode": {
    "name": "ipython",
    "version": 3
   },
   "file_extension": ".py",
   "mimetype": "text/x-python",
   "name": "python",
   "nbconvert_exporter": "python",
   "pygments_lexer": "ipython3",
   "version": "3.6.8"
  }
 },
 "nbformat": 4,
 "nbformat_minor": 2
}
